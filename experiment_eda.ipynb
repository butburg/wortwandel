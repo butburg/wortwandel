{
 "cells": [
  {
   "cell_type": "code",
   "execution_count": null,
   "metadata": {},
   "outputs": [],
   "source": [
    "import os # for path mainly\n",
    "import sys # for path mainly\n",
    "import logging # for status and log output\n",
    "import matplotlib.pyplot as plt # for plotting charts\n",
    "import seaborn as sns # for plotting default nice charts\n",
    "sys.path.append(os.path.abspath(\"pylib\")) # to make helper methods available\n",
    "\n",
    "from handle_sqlite import save_dataframe_to_db, read_table_as_dataframe"
   ]
  },
  {
   "cell_type": "markdown",
   "metadata": {},
   "source": [
    "---\n",
    "load data from dhw"
   ]
  },
  {
   "cell_type": "code",
   "execution_count": null,
   "metadata": {},
   "outputs": [],
   "source": [
    "# load from dwh the newspaper informations per date and their usage of klima\n",
    "metadata = read_table_as_dataframe(\"newspapers\", \"data_output/dwh_data.db\")\n",
    "metadata.head(2)"
   ]
  },
  {
   "cell_type": "code",
   "execution_count": null,
   "metadata": {},
   "outputs": [],
   "source": [
    "# load from dwh the found klima words\n",
    "context = read_table_as_dataframe(\"context\", \"data_output/dwh_data.db\")\n",
    "context.head(2)"
   ]
  },
  {
   "cell_type": "markdown",
   "metadata": {},
   "source": [
    "---\n",
    "cast types can help analysis and performance"
   ]
  },
  {
   "cell_type": "code",
   "execution_count": null,
   "metadata": {},
   "outputs": [],
   "source": [
    "context = context.astype({'pre_context': 'string',\n",
    "                         'post_context': 'string',\n",
    "                         'prefix': 'string',\n",
    "                         'suffix': 'string',})\n",
    "context.info()"
   ]
  },
  {
   "cell_type": "code",
   "execution_count": null,
   "metadata": {},
   "outputs": [],
   "source": [
    "context = context.astype({'pre_context': 'string',\n",
    "                         'post_context': 'string',\n",
    "                         'prefix': 'string',\n",
    "                         'suffix': 'string',})\n",
    "context.info()"
   ]
  },
  {
   "cell_type": "code",
   "execution_count": null,
   "metadata": {},
   "outputs": [],
   "source": [
    "metadata[metadata.newspaper_name == 'heise']"
   ]
  },
  {
   "cell_type": "code",
   "execution_count": null,
   "metadata": {},
   "outputs": [],
   "source": [
    "# dublicated newspapers published\n",
    "metadata.duplicated().sum()"
   ]
  },
  {
   "cell_type": "code",
   "execution_count": null,
   "metadata": {},
   "outputs": [],
   "source": [
    "# dublicates of context, including newspaper id. indicates static use\n",
    "# of klima, like navigation term of a paper.\n",
    "context.duplicated().sum()"
   ]
  },
  {
   "cell_type": "code",
   "execution_count": null,
   "metadata": {},
   "outputs": [],
   "source": [
    "# % of news pages (not newspaper-companys) with at least once \n",
    "# klima in actual data\n",
    "context.newspaper_id.nunique() / len(context) * 100"
   ]
  },
  {
   "cell_type": "markdown",
   "metadata": {},
   "source": [
    "% of newspaper-companys, that never mentioned klima"
   ]
  },
  {
   "cell_type": "code",
   "execution_count": null,
   "metadata": {},
   "outputs": [],
   "source": [
    "#metadata.groupby(['newspaper_name'])['klima_mentions_count'].sum()\n",
    "klima_counts_per_company = metadata.pivot_table(values='klima_mentions_count', index='newspaper_name', aggfunc='sum')"
   ]
  },
  {
   "cell_type": "code",
   "execution_count": null,
   "metadata": {},
   "outputs": [],
   "source": [
    "total_companys = len(klima_counts_per_company)\n",
    "total_companys"
   ]
  },
  {
   "cell_type": "code",
   "execution_count": null,
   "metadata": {},
   "outputs": [],
   "source": [
    "no_klima_companies = (klima_counts_per_company['klima_mentions_count'] == 0).sum()\n",
    "no_klima_companies"
   ]
  },
  {
   "cell_type": "code",
   "execution_count": null,
   "metadata": {},
   "outputs": [],
   "source": [
    "no_klima_companies / total_companys * 100"
   ]
  },
  {
   "cell_type": "code",
   "execution_count": null,
   "metadata": {},
   "outputs": [],
   "source": [
    "dict(klima_counts_per_company_sorted)"
   ]
  },
  {
   "cell_type": "code",
   "execution_count": null,
   "metadata": {},
   "outputs": [],
   "source": [
    "# histogram of the times, klima is used in one single paper publish\n",
    "ax = sns.countplot(data=metadata, x=\"klima_mentions_count\", palette=\"flare\")\n",
    "#ax.bar_label(ax.containers[0])\n",
    "plt.show()"
   ]
  },
  {
   "cell_type": "code",
   "execution_count": null,
   "metadata": {},
   "outputs": [],
   "source": [
    "# look at the lower freq edges\n",
    "\n",
    "top_three = sorted(metadata['klima_mentions_count'].unique())[:5]\n",
    "counts = metadata['klima_mentions_count'].value_counts().loc[top_three]\n",
    "\n",
    "ax = sns.barplot(y=counts.index, x=counts.values, orient='h', palette=\"flare\")\n",
    "ax.bar_label(ax.containers[0])\n",
    "plt.show()"
   ]
  },
  {
   "cell_type": "code",
   "execution_count": null,
   "metadata": {},
   "outputs": [],
   "source": [
    "# look at the higher freq edges and its newspapers\n",
    "\n",
    "top_three = sorted(metadata['klima_mentions_count'].unique())[-5:]\n",
    "counts = metadata['klima_mentions_count'].value_counts().loc[top_three]\n",
    "counts"
   ]
  },
  {
   "cell_type": "code",
   "execution_count": null,
   "metadata": {},
   "outputs": [],
   "source": [
    "ax=sns.countplot(data=context, x=\"newspaper_id\", order=context.newspaper_id.value_counts().iloc[:5].index, palette=\"flare\")\n",
    "ax.bar_label(ax.containers[0])\n",
    "plt.show()"
   ]
  },
  {
   "cell_type": "code",
   "execution_count": null,
   "metadata": {},
   "outputs": [],
   "source": [
    "ax=sns.countplot(data=context, x=\"newspaper_id\", order=context.newspaper_id.value_counts().iloc[:15].index, palette=\"flare\")\n",
    "#ax.bar_label(ax.containers[0])\n",
    "plt.show()"
   ]
  },
  {
   "cell_type": "markdown",
   "metadata": {},
   "source": [
    "## Merging for deeper eda\n"
   ]
  },
  {
   "cell_type": "code",
   "execution_count": null,
   "metadata": {},
   "outputs": [],
   "source": [
    "# make sure the one to many relationship meets expectations"
   ]
  },
  {
   "cell_type": "code",
   "execution_count": null,
   "metadata": {},
   "outputs": [],
   "source": [
    "# Count the number of rows for each newspaper_id in the metadata and context tables\n",
    "metadata_counts = metadata['newspaper_id'].value_counts()\n",
    "\n",
    "# Check if there are any newspaper_ids that appear more than once in the metadata table\n",
    "problematic_metadata = metadata_counts[metadata_counts > 1]\n",
    "\n",
    "print(f\"Problematic newspaper_id in metadata (appears more than once):\\n{problematic_metadata}\")\n",
    "\n",
    "# Check for any cases where there are no rows in metadata for context's newspaper_id\n",
    "missing_metadata = context[~context['newspaper_id'].isin(metadata['newspaper_id'])]\n",
    "print(f\"Context rows with missing metadata:\\n{missing_metadata}\")"
   ]
  },
  {
   "cell_type": "code",
   "execution_count": null,
   "metadata": {},
   "outputs": [],
   "source": [
    "context[~context['newspaper_id'].isin(metadata['newspaper_id'])]"
   ]
  },
  {
   "cell_type": "code",
   "execution_count": null,
   "metadata": {},
   "outputs": [],
   "source": [
    "# Checking the first few rows of both dataframes\n",
    "print(metadata.head(2))\n",
    "print(context.head(2))"
   ]
  },
  {
   "cell_type": "code",
   "execution_count": null,
   "metadata": {},
   "outputs": [],
   "source": [
    "import pandas as pd"
   ]
  },
  {
   "cell_type": "code",
   "execution_count": null,
   "metadata": {},
   "outputs": [],
   "source": [
    "# Check for one-to-many relationship based on 'newspaper_id'\n",
    "merged = pd.merge(context, metadata, on=\"newspaper_id\", how=\"inner\")\n",
    "\n",
    "# Checking the number of unique newspaper_id in both tables\n",
    "print(f\"Unique newspaper_id in metadata: {metadata['newspaper_id'].nunique()}\")\n",
    "print(f\"Unique newspaper_id in context: {context['newspaper_id'].nunique()}\")\n",
    "print(f\"Unique newspaper_id in merged: {merged['newspaper_id'].nunique()}\")"
   ]
  },
  {
   "cell_type": "code",
   "execution_count": null,
   "metadata": {},
   "outputs": [],
   "source": [
    "merged"
   ]
  }
 ],
 "metadata": {
  "kernelspec": {
   "display_name": "Python 3.10",
   "language": "python",
   "name": "python3.10"
  },
  "language_info": {
   "codemirror_mode": {
    "name": "ipython",
    "version": 3
   },
   "file_extension": ".py",
   "mimetype": "text/x-python",
   "name": "python",
   "nbconvert_exporter": "python",
   "pygments_lexer": "ipython3",
   "version": "3.10.5"
  }
 },
 "nbformat": 4,
 "nbformat_minor": 1
}
