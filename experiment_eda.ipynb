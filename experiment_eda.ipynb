{
 "cells": [
  {
   "cell_type": "code",
   "execution_count": 96,
   "metadata": {},
   "outputs": [],
   "source": [
    "import os\n",
    "import sys\n",
    "import logging\n",
    "import glob\n",
    "import matplotlib.pyplot as plt\n",
    "import seaborn as sns\n",
    "sys.path.append(os.path.abspath(\"pylib\"))\n",
    "\n",
    "from handle_sqlite import save_dataframe_to_db, read_table_as_dataframe"
   ]
  },
  {
   "cell_type": "code",
   "execution_count": 24,
   "metadata": {},
   "outputs": [
    {
     "name": "stderr",
     "output_type": "stream",
     "text": [
      "2025-02-24 10:00:37,067 - INFO - Data read from table 'newspapers' in 'data_output/dwh_data.db' successfully.\n"
     ]
    },
    {
     "data": {
      "text/html": [
       "<div>\n",
       "<style scoped>\n",
       "    .dataframe tbody tr th:only-of-type {\n",
       "        vertical-align: middle;\n",
       "    }\n",
       "\n",
       "    .dataframe tbody tr th {\n",
       "        vertical-align: top;\n",
       "    }\n",
       "\n",
       "    .dataframe thead th {\n",
       "        text-align: right;\n",
       "    }\n",
       "</style>\n",
       "<table border=\"1\" class=\"dataframe\">\n",
       "  <thead>\n",
       "    <tr style=\"text-align: right;\">\n",
       "      <th></th>\n",
       "      <th>newspaper_name</th>\n",
       "      <th>data_published</th>\n",
       "      <th>klima_mentions_count</th>\n",
       "      <th>newspaper_id</th>\n",
       "    </tr>\n",
       "  </thead>\n",
       "  <tbody>\n",
       "    <tr>\n",
       "      <th>0</th>\n",
       "      <td>zeit</td>\n",
       "      <td>2025-01-14</td>\n",
       "      <td>8</td>\n",
       "      <td>1</td>\n",
       "    </tr>\n",
       "    <tr>\n",
       "      <th>1</th>\n",
       "      <td>heise</td>\n",
       "      <td>2025-01-14</td>\n",
       "      <td>0</td>\n",
       "      <td>2</td>\n",
       "    </tr>\n",
       "  </tbody>\n",
       "</table>\n",
       "</div>"
      ],
      "text/plain": [
       "  newspaper_name data_published  klima_mentions_count  newspaper_id\n",
       "0           zeit     2025-01-14                     8             1\n",
       "1          heise     2025-01-14                     0             2"
      ]
     },
     "execution_count": 24,
     "metadata": {},
     "output_type": "execute_result"
    }
   ],
   "source": [
    "# load from dwh\n",
    "metadata = read_table_as_dataframe(\"newspapers\", \"data_output/dwh_data.db\")\n",
    "metadata.head(2)"
   ]
  },
  {
   "cell_type": "code",
   "execution_count": 25,
   "metadata": {},
   "outputs": [
    {
     "name": "stderr",
     "output_type": "stream",
     "text": [
      "2025-02-24 10:00:44,856 - INFO - Data read from table 'context' in 'data_output/dwh_data.db' successfully.\n"
     ]
    },
    {
     "data": {
      "text/html": [
       "<div>\n",
       "<style scoped>\n",
       "    .dataframe tbody tr th:only-of-type {\n",
       "        vertical-align: middle;\n",
       "    }\n",
       "\n",
       "    .dataframe tbody tr th {\n",
       "        vertical-align: top;\n",
       "    }\n",
       "\n",
       "    .dataframe thead th {\n",
       "        text-align: right;\n",
       "    }\n",
       "</style>\n",
       "<table border=\"1\" class=\"dataframe\">\n",
       "  <thead>\n",
       "    <tr style=\"text-align: right;\">\n",
       "      <th></th>\n",
       "      <th>pre_context</th>\n",
       "      <th>post_context</th>\n",
       "      <th>prefix</th>\n",
       "      <th>suffix</th>\n",
       "      <th>newspaper_id</th>\n",
       "    </tr>\n",
       "  </thead>\n",
       "  <tbody>\n",
       "    <tr>\n",
       "      <th>0</th>\n",
       "      <td>Wünsche für mehr</td>\n",
       "      <td>Folge 18 :</td>\n",
       "      <td></td>\n",
       "      <td>schutz</td>\n",
       "      <td>1</td>\n",
       "    </tr>\n",
       "    <tr>\n",
       "      <th>1</th>\n",
       "      <td>Wünsche für mehr</td>\n",
       "      <td>Endlich wirksame Maßnahmen</td>\n",
       "      <td></td>\n",
       "      <td>schutz</td>\n",
       "      <td>1</td>\n",
       "    </tr>\n",
       "  </tbody>\n",
       "</table>\n",
       "</div>"
      ],
      "text/plain": [
       "        pre_context                post_context prefix  suffix  newspaper_id\n",
       "0  Wünsche für mehr                  Folge 18 :         schutz             1\n",
       "1  Wünsche für mehr  Endlich wirksame Maßnahmen         schutz             1"
      ]
     },
     "execution_count": 25,
     "metadata": {},
     "output_type": "execute_result"
    }
   ],
   "source": [
    "context = read_table_as_dataframe(\"context\", \"data_output/dwh_data.db\")\n",
    "context.head(2)"
   ]
  },
  {
   "cell_type": "code",
   "execution_count": 26,
   "metadata": {},
   "outputs": [
    {
     "name": "stdout",
     "output_type": "stream",
     "text": [
      "<class 'pandas.core.frame.DataFrame'>\n",
      "RangeIndex: 890 entries, 0 to 889\n",
      "Data columns (total 5 columns):\n",
      " #   Column        Non-Null Count  Dtype \n",
      "---  ------        --------------  ----- \n",
      " 0   pre_context   890 non-null    object\n",
      " 1   post_context  890 non-null    object\n",
      " 2   prefix        890 non-null    object\n",
      " 3   suffix        890 non-null    object\n",
      " 4   newspaper_id  890 non-null    int64 \n",
      "dtypes: int64(1), object(4)\n",
      "memory usage: 34.9+ KB\n"
     ]
    }
   ],
   "source": [
    "context = context.astype({'pre_context': 'string',\n",
    "                         'post_context': 'string',\n",
    "                         'prefix': 'string',\n",
    "                         'suffix': 'string',})\n",
    "context.info()"
   ]
  },
  {
   "cell_type": "code",
   "execution_count": 29,
   "metadata": {},
   "outputs": [
    {
     "name": "stdout",
     "output_type": "stream",
     "text": [
      "<class 'pandas.core.frame.DataFrame'>\n",
      "RangeIndex: 890 entries, 0 to 889\n",
      "Data columns (total 5 columns):\n",
      " #   Column        Non-Null Count  Dtype \n",
      "---  ------        --------------  ----- \n",
      " 0   pre_context   890 non-null    string\n",
      " 1   post_context  890 non-null    string\n",
      " 2   prefix        890 non-null    string\n",
      " 3   suffix        890 non-null    string\n",
      " 4   newspaper_id  890 non-null    int64 \n",
      "dtypes: int64(1), string(4)\n",
      "memory usage: 34.9 KB\n"
     ]
    }
   ],
   "source": [
    "context = context.astype({'pre_context': 'string',\n",
    "                         'post_context': 'string',\n",
    "                         'prefix': 'string',\n",
    "                         'suffix': 'string',})\n",
    "context.info()"
   ]
  },
  {
   "cell_type": "code",
   "execution_count": 27,
   "metadata": {
    "scrolled": true
   },
   "outputs": [
    {
     "name": "stdout",
     "output_type": "stream",
     "text": [
      "<class 'pandas.core.frame.DataFrame'>\n",
      "RangeIndex: 409 entries, 0 to 408\n",
      "Data columns (total 4 columns):\n",
      " #   Column                Non-Null Count  Dtype \n",
      "---  ------                --------------  ----- \n",
      " 0   newspaper_name        409 non-null    string\n",
      " 1   data_published        409 non-null    object\n",
      " 2   klima_mentions_count  409 non-null    int64 \n",
      " 3   newspaper_id          409 non-null    int64 \n",
      "dtypes: int64(2), object(1), string(1)\n",
      "memory usage: 12.9+ KB\n"
     ]
    }
   ],
   "source": [
    "metadata = metadata.astype({'newspaper_name': 'string',\n",
    "                'klima_mentions_count': 'int'})\n",
    "metadata.info()"
   ]
  },
  {
   "cell_type": "code",
   "execution_count": 33,
   "metadata": {},
   "outputs": [
    {
     "data": {
      "text/plain": [
       "0"
      ]
     },
     "execution_count": 33,
     "metadata": {},
     "output_type": "execute_result"
    }
   ],
   "source": [
    "# dublicated newspapers published\n",
    "metadata.duplicated().sum()"
   ]
  },
  {
   "cell_type": "code",
   "execution_count": 31,
   "metadata": {},
   "outputs": [
    {
     "data": {
      "text/plain": [
       "49"
      ]
     },
     "execution_count": 31,
     "metadata": {},
     "output_type": "execute_result"
    }
   ],
   "source": [
    "# dublicates of context, including newspaper id. indicates static use\n",
    "# of klima, like navigation term of a paper.\n",
    "context.duplicated().sum()"
   ]
  },
  {
   "cell_type": "code",
   "execution_count": 84,
   "metadata": {},
   "outputs": [
    {
     "data": {
      "text/plain": [
       "22.02247191011236"
      ]
     },
     "execution_count": 84,
     "metadata": {},
     "output_type": "execute_result"
    }
   ],
   "source": [
    "# Number of Papers with at least once klima\n",
    "context.newspaper_id.nunique() / len(context) * 100"
   ]
  },
  {
   "cell_type": "code",
   "execution_count": 137,
   "metadata": {
    "scrolled": true
   },
   "outputs": [
    {
     "data": {
      "image/png": "[encoded data removed]",
      "text/plain": [
       "<Figure size 432x288 with 1 Axes>"
      ]
     },
     "metadata": {
      "needs_background": "light"
     },
     "output_type": "display_data"
    }
   ],
   "source": [
    "# histogram of the times, klima is used in one single paper publish\n",
    "ax = sns.countplot(data=metadata, x=\"klima_mentions_count\", palette=\"flare\")\n",
    "#ax.bar_label(ax.containers[0])\n",
    "plt.show()"
   ]
  },
  {
   "cell_type": "code",
   "execution_count": 136,
   "metadata": {
    "scrolled": true
   },
   "outputs": [
    {
     "data": {
      "image/png": "[encoded data removed]",
      "text/plain": [
       "<Figure size 432x288 with 1 Axes>"
      ]
     },
     "metadata": {
      "needs_background": "light"
     },
     "output_type": "display_data"
    }
   ],
   "source": [
    "# look at the lower freq edges\n",
    "\n",
    "top_three = sorted(metadata['klima_mentions_count'].unique())[:5]\n",
    "counts = metadata['klima_mentions_count'].value_counts().loc[top_three]\n",
    "\n",
    "ax = sns.barplot(y=counts.index, x=counts.values, orient='h', palette=\"flare\")\n",
    "ax.bar_label(ax.containers[0])\n",
    "plt.show()"
   ]
  },
  {
   "cell_type": "code",
   "execution_count": 122,
   "metadata": {},
   "outputs": [
    {
     "data": {
      "text/plain": [
       "19    1\n",
       "21    1\n",
       "27    1\n",
       "31    1\n",
       "32    1\n",
       "Name: klima_mentions_count, dtype: int64"
      ]
     },
     "execution_count": 122,
     "metadata": {},
     "output_type": "execute_result"
    }
   ],
   "source": [
    "# look at the higher freq edges and its newspapers\n",
    "\n",
    "top_three = sorted(metadata['klima_mentions_count'].unique())[-5:]\n",
    "counts = metadata['klima_mentions_count'].value_counts().loc[top_three]\n",
    "counts"
   ]
  },
  {
   "cell_type": "code",
   "execution_count": 138,
   "metadata": {
    "scrolled": false
   },
   "outputs": [
    {
     "data": {
      "image/png": "[encoded data removed]",
      "text/plain": [
       "<Figure size 432x288 with 1 Axes>"
      ]
     },
     "metadata": {
      "needs_background": "light"
     },
     "output_type": "display_data"
    }
   ],
   "source": [
    "ax=sns.countplot(data=context, x=\"newspaper_id\", order=context.newspaper_id.value_counts().iloc[:5].index, palette=\"flare\")\n",
    "ax.bar_label(ax.containers[0])\n",
    "plt.show()"
   ]
  },
  {
   "cell_type": "code",
   "execution_count": 139,
   "metadata": {},
   "outputs": [
    {
     "data": {
      "image/png": "[encoded data removed]",
      "text/plain": [
       "<Figure size 432x288 with 1 Axes>"
      ]
     },
     "metadata": {
      "needs_background": "light"
     },
     "output_type": "display_data"
    }
   ],
   "source": [
    "ax=sns.countplot(data=context, x=\"newspaper_id\", order=context.newspaper_id.value_counts().iloc[:15].index, palette=\"flare\")\n",
    "#ax.bar_label(ax.containers[0])\n",
    "plt.show()"
   ]
  }
 ],
 "metadata": {
  "kernelspec": {
   "display_name": "Python 3.10",
   "language": "python",
   "name": "python3.10"
  },
  "language_info": {
   "codemirror_mode": {
    "name": "ipython",
    "version": 3
   },
   "file_extension": ".py",
   "mimetype": "text/x-python",
   "name": "python",
   "nbconvert_exporter": "python",
   "pygments_lexer": "ipython3",
   "version": "3.10.5"
  }
 },
 "nbformat": 4,
 "nbformat_minor": 1
}
