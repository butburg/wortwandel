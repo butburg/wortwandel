{
 "cells": [
  {
   "cell_type": "markdown",
   "metadata": {},
   "source": [
    "This experiment notebook is the base for the lake_to_dwh.py file. It will read/load the newspaper htmls, transform them and prepare the features, which are needed for an easy analyse. The analyse will be about the word \"klima\" and its changing use over time by newspaper. See Readme for more."
   ]
  },
  {
   "cell_type": "code",
   "execution_count": 5,
   "metadata": {},
   "outputs": [],
   "source": [
    "import os\n",
    "import sys\n",
    "import logging\n",
    "sys.path.append(os.path.abspath(\"pylib\"))\n",
    "\n",
    "import pandas as pd\n",
    "from handle_sqlite import save_dataframe_to_db, read_table_as_dataframe\n",
    "from handle_data_processing import process_newspaper_with_context\n"
   ]
  },
  {
   "cell_type": "markdown",
   "metadata": {},
   "source": [
    "# Load all the newspapers\n",
    "Here we will load the csv for one day."
   ]
  },
  {
   "cell_type": "markdown",
   "metadata": {},
   "source": [
    "test: saving df as sqlite and read it"
   ]
  },
  {
   "cell_type": "code",
   "execution_count": 2,
   "metadata": {},
   "outputs": [
    {
     "name": "stderr",
     "output_type": "stream",
     "text": [
      "2025-02-21 22:32:27,558 - INFO - Data saved to table 'test_table' in 'data_output/dwh_data.db' successfully.\n"
     ]
    }
   ],
   "source": [
    "test = {'Name': ['Tom', 'nick', 'chris', 'jack'],\n",
    "        'Age': [20, 21, 19, 18]}\n",
    "\n",
    "# Create DataFrame\n",
    "df = pd.DataFrame(test)\n",
    "# df (pd.DataFrame): The DataFrame to save.\n",
    "# table_name (str): The name of the table in the database.\n",
    "# connection (sqlite3.Connection): SQLite connection object.\n",
    "# if_exists (str): How to behave if the table already exists. Options are 'fail', 'replace', 'append'.\n",
    "save_dataframe_to_db(df, \"test_table\", \"data_output/dwh_data.db\", \"replace\")"
   ]
  },
  {
   "cell_type": "code",
   "execution_count": 3,
   "metadata": {},
   "outputs": [
    {
     "name": "stderr",
     "output_type": "stream",
     "text": [
      "2025-02-21 22:32:31,360 - INFO - Data read from table 'test_table' in 'data_output/dwh_data.db' successfully.\n"
     ]
    },
    {
     "data": {
      "text/html": [
       "<div>\n",
       "<style scoped>\n",
       "    .dataframe tbody tr th:only-of-type {\n",
       "        vertical-align: middle;\n",
       "    }\n",
       "\n",
       "    .dataframe tbody tr th {\n",
       "        vertical-align: top;\n",
       "    }\n",
       "\n",
       "    .dataframe thead th {\n",
       "        text-align: right;\n",
       "    }\n",
       "</style>\n",
       "<table border=\"1\" class=\"dataframe\">\n",
       "  <thead>\n",
       "    <tr style=\"text-align: right;\">\n",
       "      <th></th>\n",
       "      <th>Name</th>\n",
       "      <th>Age</th>\n",
       "    </tr>\n",
       "  </thead>\n",
       "  <tbody>\n",
       "    <tr>\n",
       "      <th>0</th>\n",
       "      <td>Tom</td>\n",
       "      <td>20</td>\n",
       "    </tr>\n",
       "    <tr>\n",
       "      <th>1</th>\n",
       "      <td>nick</td>\n",
       "      <td>21</td>\n",
       "    </tr>\n",
       "    <tr>\n",
       "      <th>2</th>\n",
       "      <td>chris</td>\n",
       "      <td>19</td>\n",
       "    </tr>\n",
       "    <tr>\n",
       "      <th>3</th>\n",
       "      <td>jack</td>\n",
       "      <td>18</td>\n",
       "    </tr>\n",
       "  </tbody>\n",
       "</table>\n",
       "</div>"
      ],
      "text/plain": [
       "    Name  Age\n",
       "0    Tom   20\n",
       "1   nick   21\n",
       "2  chris   19\n",
       "3   jack   18"
      ]
     },
     "execution_count": 3,
     "metadata": {},
     "output_type": "execute_result"
    }
   ],
   "source": [
    "read_table_as_dataframe(\"test_table\", \"data_output/dwh_data.db\")"
   ]
  },
  {
   "cell_type": "markdown",
   "metadata": {},
   "source": [
    " orchestrate the processing"
   ]
  },
  {
   "cell_type": "code",
   "execution_count": 7,
   "metadata": {},
   "outputs": [
    {
     "name": "stderr",
     "output_type": "stream",
     "text": [
      "2025-02-21 22:34:22,620 - INFO - Processing newspaper: 54books (2021-04-02)\n",
      "2025-02-21 22:34:22,663 - INFO - No 'klima' mentions found in 54books for 2021-04-02.\n",
      "2025-02-21 22:34:22,664 - INFO - Processing newspaper: abendblatt (2021-04-02)\n",
      "2025-02-21 22:34:22,776 - INFO - 1 'klima' mentions in abendblatt for 2021-04-02.\n",
      "2025-02-21 22:34:22,777 - INFO - Processing newspaper: vice (2025-01-24)\n",
      "2025-02-21 22:34:22,812 - INFO - No 'klima' mentions found in vice for 2025-01-24.\n",
      "2025-02-21 22:34:22,812 - INFO - Processing newspaper: tagesschaus (2021-04-24)\n",
      "2025-02-21 22:34:23,029 - INFO - 2 'klima' mentions in tagesschaus for 2021-04-24.\n",
      "2025-02-21 22:34:23,030 - INFO - Processing newspaper: tagesschaus (2025-01-24)\n",
      "2025-02-21 22:34:23,254 - INFO - 4 'klima' mentions in tagesschaus for 2025-01-24.\n"
     ]
    }
   ],
   "source": [
    "newspapers = [\n",
    "    {\"file_name\": \"data_input/data_lake/2021-04-02-54books.html\", \"encoding\": \"utf-8\", \"name\": \"54books\", \"date\": \"2021-04-02\"},\n",
    "    {\"file_name\": \"data_input/data_lake/2021-04-02-abendblatt.html\", \"encoding\": \"utf-8\", \"name\": \"abendblatt\", \"date\": \"2021-04-02\"},\n",
    "    {\"file_name\": \"data_input/data_lake/2025-01-14-vice-de.html\", \"encoding\": \"utf-8\", \"name\": \"vice\", \"date\": \"2025-01-24\"},\n",
    "    {\"file_name\": \"data_input/data_lake/2021-04-24-tagesschau.html\", \"encoding\": \"utf-8\", \"name\": \"tagesschaus\", \"date\": \"2021-04-24\"},\n",
    "    {\"file_name\": \"data_input/data_lake/2025-01-24-tagesschau.html\", \"encoding\": \"utf-8\", \"name\": \"tagesschaus\", \"date\": \"2025-01-24\"},\n",
    "]\n",
    "\n",
    "\n",
    "metadata_collection = []\n",
    "context_collection = []\n",
    "\n",
    "for newspaper in newspapers:\n",
    "    try:\n",
    "        metadata, context_data = process_newspaper_with_context(newspaper)\n",
    "                \n",
    "        # Add a unique ID for each newspaper in the metadata and add to context\n",
    "        newspaper_id = len(metadata_collection) + 1  # This can be a simple counter for unique IDs (or use UUID)\n",
    "        metadata[\"newspaper_id\"] = newspaper_id  # Add newspaper_id to metadata\n",
    "        \n",
    "        # Append the metadata to its respective collection\n",
    "        metadata_collection.append(metadata)\n",
    "        \n",
    "        # Append the context data with id to its respective collection if 'klima' was found at least once\n",
    "        if metadata['klima_mentions_count'] > 0:\n",
    "            # First add the same newspaper_id to each context data\n",
    "            for context in context_data:\n",
    "                context[\"newspaper_id\"] = newspaper_id\n",
    "            context_collection.extend(context_data) # Using extend here because context_data is already a list of dicts\n",
    "\n",
    "    except Exception as e:\n",
    "        logging.error(f\"Error processing {newspaper['name']} for {newspaper['date']}: {e}\")\n",
    "\n",
    "# Convert to DataFrame after processing all newspapers\n",
    "final_metadata_df = pd.DataFrame(metadata_collection)\n",
    "final_context_df = pd.DataFrame(context_collection)\n",
    "\n",
    "# Save the results to the database\n",
    "#save_dataframe_to_db(final_metadata_df, \"newspapers\", db_path=\"dwh_data.db\", if_exists=\"replace\")\n",
    "#save_dataframe_to_db(final_context_df, \"context\", db_path=\"dwh_data.db\", if_exists=\"replace\")"
   ]
  },
  {
   "cell_type": "markdown",
   "metadata": {},
   "source": [
    "for every collected path open and process the newspaper and append result to list"
   ]
  },
  {
   "cell_type": "code",
   "execution_count": 8,
   "metadata": {},
   "outputs": [
    {
     "data": {
      "text/html": [
       "<div>\n",
       "<style scoped>\n",
       "    .dataframe tbody tr th:only-of-type {\n",
       "        vertical-align: middle;\n",
       "    }\n",
       "\n",
       "    .dataframe tbody tr th {\n",
       "        vertical-align: top;\n",
       "    }\n",
       "\n",
       "    .dataframe thead th {\n",
       "        text-align: right;\n",
       "    }\n",
       "</style>\n",
       "<table border=\"1\" class=\"dataframe\">\n",
       "  <thead>\n",
       "    <tr style=\"text-align: right;\">\n",
       "      <th></th>\n",
       "      <th>newspaper</th>\n",
       "      <th>data_published</th>\n",
       "      <th>klima_mentions_count</th>\n",
       "      <th>newspaper_id</th>\n",
       "    </tr>\n",
       "  </thead>\n",
       "  <tbody>\n",
       "    <tr>\n",
       "      <th>0</th>\n",
       "      <td>54books</td>\n",
       "      <td>2021-04-02</td>\n",
       "      <td>0</td>\n",
       "      <td>1</td>\n",
       "    </tr>\n",
       "    <tr>\n",
       "      <th>1</th>\n",
       "      <td>abendblatt</td>\n",
       "      <td>2021-04-02</td>\n",
       "      <td>1</td>\n",
       "      <td>2</td>\n",
       "    </tr>\n",
       "    <tr>\n",
       "      <th>2</th>\n",
       "      <td>vice</td>\n",
       "      <td>2025-01-24</td>\n",
       "      <td>0</td>\n",
       "      <td>3</td>\n",
       "    </tr>\n",
       "    <tr>\n",
       "      <th>3</th>\n",
       "      <td>tagesschaus</td>\n",
       "      <td>2021-04-24</td>\n",
       "      <td>2</td>\n",
       "      <td>4</td>\n",
       "    </tr>\n",
       "    <tr>\n",
       "      <th>4</th>\n",
       "      <td>tagesschaus</td>\n",
       "      <td>2025-01-24</td>\n",
       "      <td>4</td>\n",
       "      <td>5</td>\n",
       "    </tr>\n",
       "  </tbody>\n",
       "</table>\n",
       "</div>"
      ],
      "text/plain": [
       "     newspaper data_published  klima_mentions_count  newspaper_id\n",
       "0      54books     2021-04-02                     0             1\n",
       "1   abendblatt     2021-04-02                     1             2\n",
       "2         vice     2025-01-24                     0             3\n",
       "3  tagesschaus     2021-04-24                     2             4\n",
       "4  tagesschaus     2025-01-24                     4             5"
      ]
     },
     "execution_count": 8,
     "metadata": {},
     "output_type": "execute_result"
    }
   ],
   "source": [
    "final_metadata_df"
   ]
  },
  {
   "cell_type": "code",
   "execution_count": 9,
   "metadata": {},
   "outputs": [
    {
     "data": {
      "text/html": [
       "<div>\n",
       "<style scoped>\n",
       "    .dataframe tbody tr th:only-of-type {\n",
       "        vertical-align: middle;\n",
       "    }\n",
       "\n",
       "    .dataframe tbody tr th {\n",
       "        vertical-align: top;\n",
       "    }\n",
       "\n",
       "    .dataframe thead th {\n",
       "        text-align: right;\n",
       "    }\n",
       "</style>\n",
       "<table border=\"1\" class=\"dataframe\">\n",
       "  <thead>\n",
       "    <tr style=\"text-align: right;\">\n",
       "      <th></th>\n",
       "      <th>pre_context</th>\n",
       "      <th>post_context</th>\n",
       "      <th>prefix</th>\n",
       "      <th>suffix</th>\n",
       "      <th>newspaper_id</th>\n",
       "    </tr>\n",
       "  </thead>\n",
       "  <tbody>\n",
       "    <tr>\n",
       "      <th>0</th>\n",
       "      <td>Was geht vor:</td>\n",
       "      <td>oder Mieterinteresse? Hamburg</td>\n",
       "      <td></td>\n",
       "      <td>schutz</td>\n",
       "      <td>2</td>\n",
       "    </tr>\n",
       "    <tr>\n",
       "      <th>1</th>\n",
       "      <td>Adam. Biden zur</td>\n",
       "      <td>Jobmotor nicht Jobkiller</td>\n",
       "      <td></td>\n",
       "      <td>politik</td>\n",
       "      <td>4</td>\n",
       "    </tr>\n",
       "    <tr>\n",
       "      <th>2</th>\n",
       "      <td>Kampf gegen den</td>\n",
       "      <td>schafft Jobs -</td>\n",
       "      <td></td>\n",
       "      <td>wandel</td>\n",
       "      <td>4</td>\n",
       "    </tr>\n",
       "    <tr>\n",
       "      <th>3</th>\n",
       "      <td>Startseite Wissen Gesundheit</td>\n",
       "      <td>&amp; Umwelt Forschung</td>\n",
       "      <td></td>\n",
       "      <td></td>\n",
       "      <td>5</td>\n",
       "    </tr>\n",
       "    <tr>\n",
       "      <th>4</th>\n",
       "      <td>Millionen Kinder betroffen</td>\n",
       "      <td>schränkt Schulbildung weltweit</td>\n",
       "      <td></td>\n",
       "      <td>wandel</td>\n",
       "      <td>5</td>\n",
       "    </tr>\n",
       "    <tr>\n",
       "      <th>5</th>\n",
       "      <td>weltweit ein Der</td>\n",
       "      <td>hat zunehmend Einfluss</td>\n",
       "      <td></td>\n",
       "      <td>wandel</td>\n",
       "      <td>5</td>\n",
       "    </tr>\n",
       "    <tr>\n",
       "      <th>6</th>\n",
       "      <td>Wetterthema Quanten und</td>\n",
       "      <td>Welche Rolle spielen</td>\n",
       "      <td></td>\n",
       "      <td></td>\n",
       "      <td>5</td>\n",
       "    </tr>\n",
       "  </tbody>\n",
       "</table>\n",
       "</div>"
      ],
      "text/plain": [
       "                    pre_context                    post_context prefix  \\\n",
       "0                 Was geht vor:   oder Mieterinteresse? Hamburg          \n",
       "1               Adam. Biden zur        Jobmotor nicht Jobkiller          \n",
       "2               Kampf gegen den                  schafft Jobs -          \n",
       "3  Startseite Wissen Gesundheit              & Umwelt Forschung          \n",
       "4    Millionen Kinder betroffen  schränkt Schulbildung weltweit          \n",
       "5              weltweit ein Der          hat zunehmend Einfluss          \n",
       "6       Wetterthema Quanten und            Welche Rolle spielen          \n",
       "\n",
       "    suffix  newspaper_id  \n",
       "0   schutz             2  \n",
       "1  politik             4  \n",
       "2   wandel             4  \n",
       "3                      5  \n",
       "4   wandel             5  \n",
       "5   wandel             5  \n",
       "6                      5  "
      ]
     },
     "execution_count": 9,
     "metadata": {},
     "output_type": "execute_result"
    }
   ],
   "source": [
    "final_context_df"
   ]
  },
  {
   "cell_type": "markdown",
   "metadata": {},
   "source": [
    "take list and append to sqlite."
   ]
  },
  {
   "cell_type": "code",
   "execution_count": 31,
   "metadata": {},
   "outputs": [
    {
     "data": {
      "text/html": [
       "<div>\n",
       "<style scoped>\n",
       "    .dataframe tbody tr th:only-of-type {\n",
       "        vertical-align: middle;\n",
       "    }\n",
       "\n",
       "    .dataframe tbody tr th {\n",
       "        vertical-align: top;\n",
       "    }\n",
       "\n",
       "    .dataframe thead th {\n",
       "        text-align: right;\n",
       "    }\n",
       "</style>\n",
       "<table border=\"1\" class=\"dataframe\">\n",
       "  <thead>\n",
       "    <tr style=\"text-align: right;\">\n",
       "      <th></th>\n",
       "      <th>pre_context</th>\n",
       "      <th>post_context</th>\n",
       "      <th>prefix</th>\n",
       "      <th>suffix</th>\n",
       "      <th>newspaper</th>\n",
       "      <th>date_published</th>\n",
       "    </tr>\n",
       "  </thead>\n",
       "  <tbody>\n",
       "    <tr>\n",
       "      <th>0</th>\n",
       "      <td>Was geht vor:</td>\n",
       "      <td>oder Mieterinteresse? Hamburg</td>\n",
       "      <td></td>\n",
       "      <td>schutz</td>\n",
       "      <td>abendblatt</td>\n",
       "      <td>2021-04-02</td>\n",
       "    </tr>\n",
       "    <tr>\n",
       "      <th>0</th>\n",
       "      <td>Startseite Wissen Gesundheit</td>\n",
       "      <td>&amp; Umwelt Forschung</td>\n",
       "      <td></td>\n",
       "      <td></td>\n",
       "      <td>tagesschaus</td>\n",
       "      <td>2025-01-24</td>\n",
       "    </tr>\n",
       "    <tr>\n",
       "      <th>1</th>\n",
       "      <td>Millionen Kinder betroffen</td>\n",
       "      <td>schränkt Schulbildung weltweit</td>\n",
       "      <td></td>\n",
       "      <td>wandel</td>\n",
       "      <td>tagesschaus</td>\n",
       "      <td>2025-01-24</td>\n",
       "    </tr>\n",
       "    <tr>\n",
       "      <th>2</th>\n",
       "      <td>weltweit ein Der</td>\n",
       "      <td>hat zunehmend Einfluss</td>\n",
       "      <td></td>\n",
       "      <td>wandel</td>\n",
       "      <td>tagesschaus</td>\n",
       "      <td>2025-01-24</td>\n",
       "    </tr>\n",
       "    <tr>\n",
       "      <th>3</th>\n",
       "      <td>Wetterthema Quanten und</td>\n",
       "      <td>Welche Rolle spielen</td>\n",
       "      <td></td>\n",
       "      <td></td>\n",
       "      <td>tagesschaus</td>\n",
       "      <td>2025-01-24</td>\n",
       "    </tr>\n",
       "  </tbody>\n",
       "</table>\n",
       "</div>"
      ],
      "text/plain": [
       "                    pre_context                    post_context prefix  \\\n",
       "0                 Was geht vor:   oder Mieterinteresse? Hamburg          \n",
       "0  Startseite Wissen Gesundheit              & Umwelt Forschung          \n",
       "1    Millionen Kinder betroffen  schränkt Schulbildung weltweit          \n",
       "2              weltweit ein Der          hat zunehmend Einfluss          \n",
       "3       Wetterthema Quanten und            Welche Rolle spielen          \n",
       "\n",
       "   suffix    newspaper date_published  \n",
       "0  schutz   abendblatt     2021-04-02  \n",
       "0          tagesschaus     2025-01-24  \n",
       "1  wandel  tagesschaus     2025-01-24  \n",
       "2  wandel  tagesschaus     2025-01-24  \n",
       "3          tagesschaus     2025-01-24  "
      ]
     },
     "execution_count": 31,
     "metadata": {},
     "output_type": "execute_result"
    }
   ],
   "source": [
    "final_df"
   ]
  },
  {
   "cell_type": "code",
   "execution_count": 25,
   "metadata": {},
   "outputs": [
    {
     "data": {
      "text/plain": [
       "0                   Was geht vor:\n",
       "0    Startseite Wissen Gesundheit\n",
       "1      Millionen Kinder betroffen\n",
       "2                weltweit ein Der\n",
       "3         Wetterthema Quanten und\n",
       "Name: pre_context, dtype: object"
      ]
     },
     "execution_count": 25,
     "metadata": {},
     "output_type": "execute_result"
    }
   ],
   "source": [
    "final_df['pre_context']"
   ]
  },
  {
   "cell_type": "code",
   "execution_count": 26,
   "metadata": {},
   "outputs": [
    {
     "data": {
      "text/plain": [
       "0     oder Mieterinteresse? Hamburg\n",
       "0                & Umwelt Forschung\n",
       "1    schränkt Schulbildung weltweit\n",
       "2            hat zunehmend Einfluss\n",
       "3              Welche Rolle spielen\n",
       "Name: post_context, dtype: object"
      ]
     },
     "execution_count": 26,
     "metadata": {},
     "output_type": "execute_result"
    }
   ],
   "source": [
    "final_df['post_context']"
   ]
  },
  {
   "cell_type": "code",
   "execution_count": null,
   "metadata": {},
   "outputs": [],
   "source": []
  }
 ],
 "metadata": {
  "kernelspec": {
   "display_name": "Python 3.10",
   "language": "python",
   "name": "python3.10"
  },
  "language_info": {
   "codemirror_mode": {
    "name": "ipython",
    "version": 3
   },
   "file_extension": ".py",
   "mimetype": "text/x-python",
   "name": "python",
   "nbconvert_exporter": "python",
   "pygments_lexer": "ipython3",
   "version": "3.10.5"
  }
 },
 "nbformat": 4,
 "nbformat_minor": 1
}
