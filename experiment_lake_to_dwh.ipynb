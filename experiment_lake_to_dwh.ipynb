{
 "cells": [
  {
   "cell_type": "markdown",
   "metadata": {},
   "source": [
    "This experiment notebook is the base for the lake_to_dwh.py file. It will read/load the newspaper htmls, transform them and prepare the features, which are needed for an easy analyse. The analyse will be about the word \"klima\" and its changing use over time by newspaper. See Readme for more."
   ]
  },
  {
   "cell_type": "code",
   "execution_count": 1,
   "metadata": {},
   "outputs": [],
   "source": [
    "import os\n",
    "import sys\n",
    "sys.path.append(os.path.abspath(\"pylib\"))\n",
    "\n",
    "import pandas as pd\n",
    "from handle_sqlite import save_dataframe_to_db, read_table_as_dataframe\n",
    "from handle_data_processing import process_newspaper_with_context\n"
   ]
  },
  {
   "cell_type": "markdown",
   "metadata": {},
   "source": [
    "# Load all the newspapers\n",
    "Here we will load the csv for one day."
   ]
  },
  {
   "cell_type": "markdown",
   "metadata": {},
   "source": [
    "test: saving df as sqlite and read it"
   ]
  },
  {
   "cell_type": "code",
   "execution_count": 7,
   "metadata": {},
   "outputs": [
    {
     "name": "stderr",
     "output_type": "stream",
     "text": [
      "2025-02-21 19:54:07,887 - INFO - Data saved to table 'test_table' in 'data_output/dwh_data.db' successfully.\n"
     ]
    }
   ],
   "source": [
    "test = {'Name': ['Tom', 'nick', 'chris', 'jack'],\n",
    "        'Age': [20, 21, 19, 18]}\n",
    "\n",
    "# Create DataFrame\n",
    "df = pd.DataFrame(test)\n",
    "# df (pd.DataFrame): The DataFrame to save.\n",
    "# table_name (str): The name of the table in the database.\n",
    "# connection (sqlite3.Connection): SQLite connection object.\n",
    "# if_exists (str): How to behave if the table already exists. Options are 'fail', 'replace', 'append'.\n",
    "save_dataframe_to_db(df, \"test_table\", \"data_output/dwh_data.db\", \"replace\")"
   ]
  },
  {
   "cell_type": "code",
   "execution_count": 8,
   "metadata": {},
   "outputs": [
    {
     "name": "stderr",
     "output_type": "stream",
     "text": [
      "2025-02-21 19:54:08,323 - INFO - Data read from table 'test_table' in 'data_output/dwh_data.db' successfully.\n"
     ]
    },
    {
     "data": {
      "text/html": [
       "<div>\n",
       "<style scoped>\n",
       "    .dataframe tbody tr th:only-of-type {\n",
       "        vertical-align: middle;\n",
       "    }\n",
       "\n",
       "    .dataframe tbody tr th {\n",
       "        vertical-align: top;\n",
       "    }\n",
       "\n",
       "    .dataframe thead th {\n",
       "        text-align: right;\n",
       "    }\n",
       "</style>\n",
       "<table border=\"1\" class=\"dataframe\">\n",
       "  <thead>\n",
       "    <tr style=\"text-align: right;\">\n",
       "      <th></th>\n",
       "      <th>Name</th>\n",
       "      <th>Age</th>\n",
       "    </tr>\n",
       "  </thead>\n",
       "  <tbody>\n",
       "    <tr>\n",
       "      <th>0</th>\n",
       "      <td>Tom</td>\n",
       "      <td>20</td>\n",
       "    </tr>\n",
       "    <tr>\n",
       "      <th>1</th>\n",
       "      <td>nick</td>\n",
       "      <td>21</td>\n",
       "    </tr>\n",
       "    <tr>\n",
       "      <th>2</th>\n",
       "      <td>chris</td>\n",
       "      <td>19</td>\n",
       "    </tr>\n",
       "    <tr>\n",
       "      <th>3</th>\n",
       "      <td>jack</td>\n",
       "      <td>18</td>\n",
       "    </tr>\n",
       "  </tbody>\n",
       "</table>\n",
       "</div>"
      ],
      "text/plain": [
       "    Name  Age\n",
       "0    Tom   20\n",
       "1   nick   21\n",
       "2  chris   19\n",
       "3   jack   18"
      ]
     },
     "execution_count": 8,
     "metadata": {},
     "output_type": "execute_result"
    }
   ],
   "source": [
    "read_table_as_dataframe(\"test_table\", \"data_output/dwh_data.db\")"
   ]
  },
  {
   "cell_type": "markdown",
   "metadata": {},
   "source": [
    " orchestrate the processing"
   ]
  },
  {
   "cell_type": "code",
   "execution_count": 20,
   "metadata": {},
   "outputs": [],
   "source": [
    "newspapers = [\n",
    "    {\"file_name\": \"data_input/data_lake/2021-04-02-54books.html\", \"encoding\": \"utf-8\", \"name\": \"Newspaper 1\", \"date\": \"2021-04-02\"},\n",
    "    {\"file_name\": \"data_input/data_lake/2021-04-02-abendblatt.html\", \"encoding\": \"utf-8\", \"name\": \"Newspaper 2\", \"date\": \"2021-04-02\"},\n",
    "    {\"file_name\": \"data_input/data_lake/2025-01-14-vice-de.html\", \"encoding\": \"utf-8\", \"name\": \"Newspaper 3\", \"date\": \"2025-01-24\"},\n",
    "]\n",
    "\n",
    "collection = []\n",
    "\n",
    "for newspaper in newspapers:\n",
    "    try:\n",
    "        result_df = process_newspaper_with_context(newspaper)\n",
    "        collection.append(result_df)\n",
    "    except Exception as e:\n",
    "        print(f\"Error processing {newspaper['name']}: {e}\")\n",
    "\n",
    "# Combine all results into one dataframe\n",
    "final_df = pd.concat(collection, axis=0)\n",
    "final_df.to_csv('processed_newspapers.csv', index=False)"
   ]
  },
  {
   "cell_type": "markdown",
   "metadata": {},
   "source": [
    "for every collected path open and process the newspaper and append result to list"
   ]
  },
  {
   "cell_type": "markdown",
   "metadata": {},
   "source": [
    "take list and append to sqlite."
   ]
  },
  {
   "cell_type": "code",
   "execution_count": 18,
   "metadata": {},
   "outputs": [
    {
     "data": {
      "text/html": [
       "<div>\n",
       "<style scoped>\n",
       "    .dataframe tbody tr th:only-of-type {\n",
       "        vertical-align: middle;\n",
       "    }\n",
       "\n",
       "    .dataframe tbody tr th {\n",
       "        vertical-align: top;\n",
       "    }\n",
       "\n",
       "    .dataframe thead th {\n",
       "        text-align: right;\n",
       "    }\n",
       "</style>\n",
       "<table border=\"1\" class=\"dataframe\">\n",
       "  <thead>\n",
       "    <tr style=\"text-align: right;\">\n",
       "      <th></th>\n",
       "      <th>pre_context</th>\n",
       "      <th>post_context</th>\n",
       "      <th>prefix</th>\n",
       "      <th>suffix</th>\n",
       "      <th>newspaper</th>\n",
       "      <th>date_published</th>\n",
       "    </tr>\n",
       "  </thead>\n",
       "  <tbody>\n",
       "    <tr>\n",
       "      <th>0</th>\n",
       "      <td>Was geht vor:</td>\n",
       "      <td>oder Mieterinteresse? Hamburg</td>\n",
       "      <td></td>\n",
       "      <td>schutz</td>\n",
       "      <td>Newspaper 2</td>\n",
       "      <td>2021-04-02</td>\n",
       "    </tr>\n",
       "  </tbody>\n",
       "</table>\n",
       "</div>"
      ],
      "text/plain": [
       "     pre_context                   post_context prefix  suffix    newspaper  \\\n",
       "0  Was geht vor:  oder Mieterinteresse? Hamburg         schutz  Newspaper 2   \n",
       "\n",
       "  date_published  \n",
       "0     2021-04-02  "
      ]
     },
     "execution_count": 18,
     "metadata": {},
     "output_type": "execute_result"
    }
   ],
   "source": [
    "final_df"
   ]
  },
  {
   "cell_type": "code",
   "execution_count": 12,
   "metadata": {},
   "outputs": [
    {
     "data": {
      "text/plain": [
       "0    Was geht vor:\n",
       "Name: pre_context, dtype: object"
      ]
     },
     "execution_count": 12,
     "metadata": {},
     "output_type": "execute_result"
    }
   ],
   "source": [
    "final_df['pre_context']"
   ]
  },
  {
   "cell_type": "code",
   "execution_count": 13,
   "metadata": {},
   "outputs": [
    {
     "data": {
      "text/plain": [
       "0    oder Mieterinteresse? Hamburg\n",
       "Name: post_context, dtype: object"
      ]
     },
     "execution_count": 13,
     "metadata": {},
     "output_type": "execute_result"
    }
   ],
   "source": [
    "final_df['post_context']"
   ]
  }
 ],
 "metadata": {
  "kernelspec": {
   "display_name": "Python 3.10",
   "language": "python",
   "name": "python3.10"
  },
  "language_info": {
   "codemirror_mode": {
    "name": "ipython",
    "version": 3
   },
   "file_extension": ".py",
   "mimetype": "text/x-python",
   "name": "python",
   "nbconvert_exporter": "python",
   "pygments_lexer": "ipython3",
   "version": "3.10.5"
  }
 },
 "nbformat": 4,
 "nbformat_minor": 1
}
