{
 "cells": [
  {
   "cell_type": "markdown",
   "metadata": {},
   "source": [
    "This experiment notebook is the base for the lake_to_dwh.py file. It will read/load the newspaper htmls, transform them and prepare the features, which are needed for an easy analyse. The analyse will be about the word \"klima\" and its changing use over time by newspaper. See Readme for more."
   ]
  },
  {
   "cell_type": "code",
   "execution_count": 5,
   "metadata": {},
   "outputs": [],
   "source": [
    "import os\n",
    "import sys\n",
    "sys.path.append(os.path.abspath(\"pylib\"))\n",
    "\n",
    "import pandas as pd\n",
    "from handle_sqlite import save_dataframe_to_db, read_table_as_dataframe"
   ]
  },
  {
   "cell_type": "markdown",
   "metadata": {},
   "source": [
    "# Load all the newspapers\n",
    "Here we will load the csv for one day."
   ]
  },
  {
   "cell_type": "markdown",
   "metadata": {},
   "source": [
    "load sqlite if able"
   ]
  },
  {
   "cell_type": "code",
   "execution_count": 11,
   "metadata": {},
   "outputs": [
    {
     "name": "stderr",
     "output_type": "stream",
     "text": [
      "2025-02-11 20:38:04,156 - INFO - Data saved to table 'papers' in 'dwh_data.db' successfully.\n"
     ]
    }
   ],
   "source": [
    "test = {'Name': ['Tom', 'nick', 'krish', 'jack'],\n",
    "        'Age': [20, 21, 19, 18]}\n",
    "\n",
    "# Create DataFrame\n",
    "df = pd.DataFrame(test)\n",
    "save_dataframe_to_db(df, \"papers\", \"dwh_data.db\")"
   ]
  },
  {
   "cell_type": "code",
   "execution_count": 16,
   "metadata": {},
   "outputs": [
    {
     "name": "stderr",
     "output_type": "stream",
     "text": [
      "2025-02-11 20:38:46,541 - INFO - Data read from table 'papers' in 'dwh_data.db' successfully.\n"
     ]
    },
    {
     "data": {
      "text/html": [
       "<div>\n",
       "<style scoped>\n",
       "    .dataframe tbody tr th:only-of-type {\n",
       "        vertical-align: middle;\n",
       "    }\n",
       "\n",
       "    .dataframe tbody tr th {\n",
       "        vertical-align: top;\n",
       "    }\n",
       "\n",
       "    .dataframe thead th {\n",
       "        text-align: right;\n",
       "    }\n",
       "</style>\n",
       "<table border=\"1\" class=\"dataframe\">\n",
       "  <thead>\n",
       "    <tr style=\"text-align: right;\">\n",
       "      <th></th>\n",
       "      <th>Name</th>\n",
       "      <th>Age</th>\n",
       "    </tr>\n",
       "  </thead>\n",
       "  <tbody>\n",
       "    <tr>\n",
       "      <th>0</th>\n",
       "      <td>Tom</td>\n",
       "      <td>20</td>\n",
       "    </tr>\n",
       "    <tr>\n",
       "      <th>1</th>\n",
       "      <td>nick</td>\n",
       "      <td>21</td>\n",
       "    </tr>\n",
       "    <tr>\n",
       "      <th>2</th>\n",
       "      <td>krish</td>\n",
       "      <td>19</td>\n",
       "    </tr>\n",
       "    <tr>\n",
       "      <th>3</th>\n",
       "      <td>jack</td>\n",
       "      <td>18</td>\n",
       "    </tr>\n",
       "  </tbody>\n",
       "</table>\n",
       "</div>"
      ],
      "text/plain": [
       "    Name  Age\n",
       "0    Tom   20\n",
       "1   nick   21\n",
       "2  krish   19\n",
       "3   jack   18"
      ]
     },
     "execution_count": 16,
     "metadata": {},
     "output_type": "execute_result"
    }
   ],
   "source": [
    "read_table_as_dataframe(\"papers\")"
   ]
  },
  {
   "cell_type": "markdown",
   "metadata": {},
   "source": [
    "get all paths for all newspapers (extend with optional daterange (otherwise all))"
   ]
  },
  {
   "cell_type": "code",
   "execution_count": 1,
   "metadata": {},
   "outputs": [],
   "source": [
    "def run_extract(paper):\n",
    "    return pd.Series(['a' + paper, 'b' + paper])"
   ]
  },
  {
   "cell_type": "markdown",
   "metadata": {},
   "source": [
    "for every collected path open and process the newspaper and append result to list"
   ]
  },
  {
   "cell_type": "markdown",
   "metadata": {},
   "source": [
    "take list and append to sqlite."
   ]
  },
  {
   "cell_type": "code",
   "execution_count": 7,
   "metadata": {},
   "outputs": [
    {
     "data": {
      "text/plain": [
       "0        c\n",
       "1        d\n",
       "2     aTAZ\n",
       "3     bTAZ\n",
       "4      aSZ\n",
       "5      bSZ\n",
       "6     aRBB\n",
       "7     bRBB\n",
       "8     aTAZ\n",
       "9     bTAZ\n",
       "10     aSZ\n",
       "11     bSZ\n",
       "12    aRBB\n",
       "13    bRBB\n",
       "14    aTAZ\n",
       "15    bTAZ\n",
       "16     aSZ\n",
       "17     bSZ\n",
       "18    aRBB\n",
       "19    bRBB\n",
       "dtype: object"
      ]
     },
     "execution_count": 7,
     "metadata": {},
     "output_type": "execute_result"
    }
   ],
   "source": [
    "# For every day\n",
    "    # for every newspaper\n",
    "        # run extract\n",
    "PATH = \"\"\n",
    "\n",
    "df = pd.Series(['c', 'd'])\n",
    "\n",
    "days = ['Mo','Di','Mi']\n",
    "papers = ['TAZ','SZ','RBB']\n",
    "\n",
    "\n",
    "for day in days:\n",
    "    for paper in papers:\n",
    "        df= pd.concat([df, run_extract(paper)], ignore_index=True)\n",
    "\n",
    "#table_into_dwh(df)\n",
    "df"
   ]
  },
  {
   "cell_type": "code",
   "execution_count": null,
   "metadata": {},
   "outputs": [],
   "source": []
  }
 ],
 "metadata": {
  "kernelspec": {
   "display_name": "Python 3.10",
   "language": "python",
   "name": "python3.10"
  },
  "language_info": {
   "codemirror_mode": {
    "name": "ipython",
    "version": 3
   },
   "file_extension": ".py",
   "mimetype": "text/x-python",
   "name": "python",
   "nbconvert_exporter": "python",
   "pygments_lexer": "ipython3",
   "version": "3.10.5"
  }
 },
 "nbformat": 4,
 "nbformat_minor": 1
}
