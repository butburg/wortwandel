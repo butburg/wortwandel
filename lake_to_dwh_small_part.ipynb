{
 "cells": [
  {
   "cell_type": "markdown",
   "metadata": {},
   "source": [
    "This notebook will read/load the newspaper htmls, transform them and prepare the simple dimensions, which are prepared to match the following analyse. The analyse will be about the word \"klima\" and its changing use over time by newspaper. See Readme for more."
   ]
  },
  {
   "cell_type": "code",
   "execution_count": null,
   "metadata": {},
   "outputs": [],
   "source": [
    "import os\n",
    "import sys\n",
    "import logging\n",
    "import glob\n",
    "sys.path.append(os.path.abspath(\"pylib\"))\n",
    "\n",
    "import pandas as pd\n",
    "from handle_sqlite import save_dataframe_to_db, read_table_as_dataframe\n",
    "from handle_data_processing import process_newspaper_with_context\n"
   ]
  },
  {
   "cell_type": "markdown",
   "metadata": {},
   "source": [
    "# Load a part of the date for testing newspapers\n",
    "Here we will load the csv for one day."
   ]
  },
  {
   "cell_type": "code",
   "execution_count": null,
   "metadata": {},
   "outputs": [],
   "source": [
    "# Use glob to list all CSV files in the specified directory with date format in their names\n",
    "csv_files = glob.glob('data_input/data-lake/small_part_test/*-*.csv')"
   ]
  },
  {
   "cell_type": "code",
   "execution_count": null,
   "metadata": {},
   "outputs": [],
   "source": [
    "# Initialize an empty list to store newspaper data\n",
    "newspapers = []\n",
    "\n",
    "# Process each CSV file\n",
    "for csv_file in csv_files:\n",
    "    # Load CSV\n",
    "    df = pd.read_csv(csv_file)\n",
    "\n",
    "    # Filter by status 200 and select necessary columns\n",
    "    valid_newspapers = df[df['status'] == 200][['name', 'date', 'file_name', 'encoding']]\n",
    "\n",
    "    # Convert valid rows to dictionaries and add to newspapers list\n",
    "    newspapers.extend(valid_newspapers.to_dict(orient='records'))"
   ]
  },
  {
   "cell_type": "code",
   "execution_count": null,
   "metadata": {},
   "outputs": [],
   "source": [
    "newspapers"
   ]
  },
  {
   "cell_type": "code",
   "execution_count": null,
   "metadata": {},
   "outputs": [],
   "source": [
    "for newspaper in newspapers:\n",
    "    print(newspaper)\n",
    "    break"
   ]
  },
  {
   "cell_type": "code",
   "execution_count": null,
   "metadata": {},
   "outputs": [],
   "source": [
    "metadata_collection = []\n",
    "context_collection = []\n",
    "\n",
    "for newspaper in newspapers:\n",
    "    try:        \n",
    "        metadata, context_data = process_newspaper_with_context(\n",
    "            name = newspaper['name'],\n",
    "            date = newspaper['date'],\n",
    "            file_path = 'data_input/' + newspaper['file_name'],\n",
    "            encoding = newspaper['encoding'])\n",
    "          \n",
    "        logging.info(f\"Processing done for {newspaper['name']} ({newspaper['date']}).\")\n",
    "        \n",
    "        # Add a unique ID for each newspaper in the metadata and add to context\n",
    "        newspaper_id = len(metadata_collection) + 1  # This can be a simple counter for unique IDs (or use UUID)\n",
    "        metadata[\"newspaper_id\"] = newspaper_id  # Add newspaper_id to metadata\n",
    "        \n",
    "        # Append the metadata to its respective collection\n",
    "        metadata_collection.append(metadata)\n",
    "        \n",
    "        # Append the context data with id to its respective collection if 'klima' was found at least once\n",
    "        if metadata['klima_mentions_count'] > 0:\n",
    "            # First add the same newspaper_id to each context data\n",
    "            for context in context_data:\n",
    "                context[\"newspaper_id\"] = newspaper_id\n",
    "            context_collection.extend(context_data) # Using extend here because context_data is already a list of dicts\n",
    "\n",
    "    except Exception as e:\n",
    "        logging.error(f\"Error processing {newspaper['name']} for {newspaper['date']}: {e}\")"
   ]
  },
  {
   "cell_type": "code",
   "execution_count": null,
   "metadata": {},
   "outputs": [],
   "source": [
    "# Convert to DataFrame after processing all newspapers\n",
    "final_metadata_df = pd.DataFrame(metadata_collection)\n",
    "final_context_df = pd.DataFrame(context_collection)"
   ]
  },
  {
   "cell_type": "code",
   "execution_count": null,
   "metadata": {},
   "outputs": [],
   "source": [
    "final_metadata_df"
   ]
  },
  {
   "cell_type": "code",
   "execution_count": null,
   "metadata": {},
   "outputs": [],
   "source": [
    "final_context_df"
   ]
  },
  {
   "cell_type": "code",
   "execution_count": null,
   "metadata": {},
   "outputs": [],
   "source": [
    "# Save the results to the database\n",
    "save_dataframe_to_db(final_metadata_df, \"newspapers\", db_path=\"data_output/dwh_data.db\", if_exists=\"replace\")\n",
    "save_dataframe_to_db(final_context_df, \"context\", db_path=\"data_output/dwh_data.db\", if_exists=\"replace\")"
   ]
  },
  {
   "cell_type": "code",
   "execution_count": null,
   "metadata": {},
   "outputs": [],
   "source": [
    "# check the saved data\n",
    "meta_data = read_table_as_dataframe(\"newspapers\", \"data_output/dwh_data.db\")\n",
    "meta_data.head()"
   ]
  },
  {
   "cell_type": "code",
   "execution_count": null,
   "metadata": {},
   "outputs": [],
   "source": [
    "meta_data.to_csv(\"dwh_newspaper_meta.csv\", index=False)"
   ]
  },
  {
   "cell_type": "code",
   "execution_count": null,
   "metadata": {},
   "outputs": [],
   "source": [
    "context_data = read_table_as_dataframe(\"context\", \"data_output/dwh_data.db\")\n",
    "context_data.head()"
   ]
  },
  {
   "cell_type": "code",
   "execution_count": null,
   "metadata": {},
   "outputs": [],
   "source": [
    "context_data.to_csv(\"dwh_newspaper_context.csv\", index=False)"
   ]
  },
  {
   "cell_type": "code",
   "execution_count": null,
   "metadata": {},
   "outputs": [],
   "source": []
  }
 ],
 "metadata": {
  "kernelspec": {
   "display_name": "wortwandel--z0Crv6c",
   "language": "python",
   "name": "python3"
  },
  "language_info": {
   "codemirror_mode": {
    "name": "ipython",
    "version": 3
   },
   "file_extension": ".py",
   "mimetype": "text/x-python",
   "name": "python",
   "nbconvert_exporter": "python",
   "pygments_lexer": "ipython3",
   "version": "3.12.3"
  }
 },
 "nbformat": 4,
 "nbformat_minor": 1
}
